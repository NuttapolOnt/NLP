{
  "cells": [
    {
      "cell_type": "markdown",
      "metadata": {
        "collapsed": true,
        "id": "15QfB7RAuXAc"
      },
      "source": [
        "# Language Modeling using Ngram"
      ]
    },
    {
      "cell_type": "markdown",
      "metadata": {
        "id": "gucid6KNuXAe"
      },
      "source": [
        "In this Exercise, you are going to use NLTK which is a natural language processing library for python to create a bigram language model and its variation. You will build one model for each of the following type and calculate their perplexity:\n",
        "- Unigram Model\n",
        "- Bigram Model\n",
        "- Bigram Model with Laplace smoothing\n",
        "- Bigram Model with Interpolation\n",
        "- Bigram Model with Kneser-ney Interpolation\n",
        "- Neural LM (optional)\n",
        "\n"
      ]
    },
    {
      "cell_type": "code",
      "execution_count": 123,
      "metadata": {
        "colab": {
          "base_uri": "https://localhost:8080/"
        },
        "id": "MRRrn78ZjL54",
        "outputId": "394c1bc5-82d5-4926-bbfe-b506038e13e7"
      },
      "outputs": [
        {
          "name": "stdout",
          "output_type": "stream",
          "text": [
            "--2023-01-28 14:45:31--  https://github.com/ekapolc/nlp_2019/raw/master/HW4/BEST2010.zip\n",
            "Resolving github.com (github.com)... 20.205.243.166\n",
            "Connecting to github.com (github.com)|20.205.243.166|:443... connected.\n",
            "HTTP request sent, awaiting response... 302 Found\n",
            "Location: https://raw.githubusercontent.com/ekapolc/nlp_2019/master/HW4/BEST2010.zip [following]\n",
            "--2023-01-28 14:45:32--  https://raw.githubusercontent.com/ekapolc/nlp_2019/master/HW4/BEST2010.zip\n",
            "Resolving raw.githubusercontent.com (raw.githubusercontent.com)... 2606:50c0:8001::154, 2606:50c0:8002::154, 2606:50c0:8003::154, ...\n",
            "Connecting to raw.githubusercontent.com (raw.githubusercontent.com)|2606:50c0:8001::154|:443... connected.\n",
            "HTTP request sent, awaiting response... ^C\n",
            "unzip:  cannot find or open BEST2010.zip, BEST2010.zip.zip or BEST2010.zip.ZIP.\n"
          ]
        }
      ],
      "source": [
        "#download corpus\n",
        "!wget --no-check-certificate https://github.com/ekapolc/nlp_2019/raw/master/HW4/BEST2010.zip\n",
        "!unzip BEST2010.zip"
      ]
    },
    {
      "cell_type": "code",
      "execution_count": 69,
      "metadata": {
        "id": "GjJDeG03uXAf"
      },
      "outputs": [],
      "source": [
        "#First we import necessary library such as math, nltk, bigram, and collections.\n",
        "import math\n",
        "import nltk\n",
        "import io\n",
        "import random\n",
        "from random import shuffle\n",
        "from nltk import bigrams, trigrams\n",
        "from collections import Counter, defaultdict\n",
        "random.seed(999)"
      ]
    },
    {
      "cell_type": "markdown",
      "metadata": {
        "id": "HugXBHNEuXAh"
      },
      "source": [
        "BEST2010 is a free Thai NLP dataset by NECTEC usually use as a standard benchmark for various NLP tasks includeing language modeling. BEST2010 is separated into 4 domain article, encyclopedia, news and novel. The data is already  tokenized using '|' as a separator.\n",
        "\n",
        "For example,\n",
        "\n",
        "ตาม|ที่|นางประนอม ทองจันทร์| |กับ| |ด.ช.กิตติพงษ์ แหลมผักแว่น| |และ| |ด.ญ.กาญจนา กรองแก้ว| |ป่วย|สงสัย|ติด|เชื้อ|ไข้|ขณะ|นี้|ยัง|ไม่|ดี|ขึ้น|"
      ]
    },
    {
      "cell_type": "code",
      "execution_count": 70,
      "metadata": {
        "id": "iu-AJSZZuXAi"
      },
      "outputs": [],
      "source": [
        "# We choose news domain as our dataset\n",
        "best2010=[]\n",
        "fp= io.open('BEST2010/news.txt','r',encoding='utf-8')\n",
        "for i,line in enumerate(fp):\n",
        "    best2010.append(line.strip()[:-1])\n",
        "fp.close()\n",
        "all_vocabulary =set()\n",
        "total_word_count =0\n",
        "for line in best2010:\n",
        "    for word in line.split('|'):        \n",
        "        all_vocabulary.add(word)\n",
        "        total_word_count+=1"
      ]
    },
    {
      "cell_type": "code",
      "execution_count": 71,
      "metadata": {
        "colab": {
          "base_uri": "https://localhost:8080/"
        },
        "id": "3WfpGgbruXAj",
        "outputId": "83702205-3bda-49b5-e469-045dd64c8cb9"
      },
      "outputs": [
        {
          "name": "stdout",
          "output_type": "stream",
          "text": [
            "Total sentences in BEST2010 news dataset :\t30969\n",
            "Total word counts in BEST2010 news dataset :\t1660190\n",
            "Total vocabulary in BEST2010 news dataset :\t35488\n"
          ]
        }
      ],
      "source": [
        "#For simplicity, we assumes that each line is a sentence.\n",
        "print ('Total sentences in BEST2010 news dataset :\\t'+ str(len(best2010)))\n",
        "print ('Total word counts in BEST2010 news dataset :\\t'+ str(total_word_count))\n",
        "print ('Total vocabulary in BEST2010 news dataset :\\t'+ str(len(all_vocabulary)))"
      ]
    },
    {
      "cell_type": "markdown",
      "metadata": {
        "id": "_JD9iXF1uXAm"
      },
      "source": [
        "We separate out input into 2 sets, train and test data with 70:30 ratio"
      ]
    },
    {
      "cell_type": "code",
      "execution_count": 73,
      "metadata": {
        "colab": {
          "base_uri": "https://localhost:8080/"
        },
        "id": "_WGcQq_juXAm",
        "outputId": "785beca9-558b-402b-b2e1-6a99fe2347be"
      },
      "outputs": [
        {
          "name": "stdout",
          "output_type": "stream",
          "text": [
            "Total sentences in BEST2010 news training dataset :\t21678\n",
            "Total word counts in BEST2010 news training dataset :\t1042797\n",
            "Total vocabuary in BEST2010 news training dataset :\t26240\n"
          ]
        }
      ],
      "source": [
        "sentences = best2010\n",
        "# The data is separated to train and test set with 70:30 ratio.\n",
        "train = sentences[:int(len(sentences)*0.7)]\n",
        "test = sentences[int(len(sentences)*0.7):]\n",
        "\n",
        "#Training data\n",
        "train_vocabulary =set()\n",
        "train_word_count =0\n",
        "for line in train:\n",
        "    for word in line.split('|'):        \n",
        "        train_vocabulary.add(word)\n",
        "        train_word_count+=1\n",
        "print ('Total sentences in BEST2010 news training dataset :\\t'+ str(len(train)))\n",
        "print ('Total word counts in BEST2010 news training dataset :\\t'+ str(train_word_count))\n",
        "print ('Total vocabuary in BEST2010 news training dataset :\\t'+ str(len(train_vocabulary)))\n",
        "# We will use 1/vocab_size as a default value for unknown word\n",
        "unk_value = math.pow(len(train_vocabulary),-1)"
      ]
    },
    {
      "cell_type": "markdown",
      "metadata": {
        "id": "_Yx3J-IHdUgI"
      },
      "source": [
        "# IMPORTANT. Use the dataset below to answer questions on Mycourseville\n",
        "\n",
        "The dataset has been tokenized for you (with the vocabulary above).\n",
        "\n",
        "Please download the provided vocabulary to confirm that you are using the same vocabulary. **Otherwise, you might get wrong answers.**"
      ]
    },
    {
      "cell_type": "code",
      "execution_count": null,
      "metadata": {
        "id": "7QXUJ7mBdBJw"
      },
      "outputs": [
        {
          "name": "stdout",
          "output_type": "stream",
          "text": [
            "zsh:1: no matches found: https://www.dropbox.com/s/jajdlqnp5h0ywvo/tokenized_wiki_sample.csv?dl=0\n",
            "--2023-01-27 22:41:52--  https://www.dropbox.com/s/n7w7te0zc1vz67n/train_vocabulary.pickle\n",
            "Resolving www.dropbox.com (www.dropbox.com)... 2620:100:6031:18::a27d:5112, 162.125.81.18\n",
            "Connecting to www.dropbox.com (www.dropbox.com)|2620:100:6031:18::a27d:5112|:443... connected.\n",
            "HTTP request sent, awaiting response... ^C\n"
          ]
        }
      ],
      "source": [
        "!wget https://www.dropbox.com/s/jajdlqnp5h0ywvo/tokenized_wiki_sample.csv?dl=0 \n",
        "!wget https://www.dropbox.com/s/n7w7te0zc1vz67n/train_vocabulary.pickle"
      ]
    },
    {
      "cell_type": "code",
      "execution_count": 74,
      "metadata": {
        "id": "Gb-FOCnXeKoY"
      },
      "outputs": [],
      "source": [
        "import pickle\n",
        "with open(\"train_vocabulary.pickle\",\"rb\") as f:\n",
        "  old_vocab = pickle.load(f)"
      ]
    },
    {
      "cell_type": "code",
      "execution_count": 75,
      "metadata": {
        "id": "D4QjaypTejNT"
      },
      "outputs": [],
      "source": [
        "assert train_vocabulary == old_vocab #if nothing shows up, you are good to go"
      ]
    },
    {
      "cell_type": "markdown",
      "metadata": {
        "id": "pHtCMFMluXAo"
      },
      "source": [
        "# Unigram"
      ]
    },
    {
      "cell_type": "markdown",
      "metadata": {
        "id": "2V1WQTGzuXAp"
      },
      "source": [
        "In this section, we will demonstrate how to build a unigram language model <br>\n",
        "**Important note:** <br>\n",
        "**\\<s\\>** = sentence start symbol <br>\n",
        "**\\</s\\>** = sentence end symbol "
      ]
    },
    {
      "cell_type": "code",
      "execution_count": 76,
      "metadata": {
        "id": "vQjO4wX_uXAp"
      },
      "outputs": [],
      "source": [
        "def getUnigramModel(data):\n",
        "    model = defaultdict(lambda: 0)\n",
        "    word_count =0\n",
        "    for sentence in data:\n",
        "        sentence +=  u'|</s>' #for unigram model we can always ignore <s>, since p(w0=<s>)=1\n",
        "        for w1 in sentence.split('|'):\n",
        "            model[w1] +=1.0\n",
        "            word_count+=1\n",
        "    for w1 in model:\n",
        "        model[w1] = model[w1]/(word_count)\n",
        "    return model"
      ]
    },
    {
      "cell_type": "code",
      "execution_count": 77,
      "metadata": {
        "id": "dxoVqkfuuXAr"
      },
      "outputs": [],
      "source": [
        "unigram_model = getUnigramModel(train)"
      ]
    },
    {
      "cell_type": "code",
      "execution_count": 10,
      "metadata": {
        "id": "6coGxSY7uXAt"
      },
      "outputs": [],
      "source": [
        "def getLnValue(x):\n",
        "    if x >0.0:\n",
        "        return math.log(x)\n",
        "    else:\n",
        "        return math.log(unk_value)"
      ]
    },
    {
      "cell_type": "code",
      "execution_count": 78,
      "metadata": {
        "id": "cFy8yhZjuXAv"
      },
      "outputs": [
        {
          "name": "stdout",
          "output_type": "stream",
          "text": [
            "-6.551526663995246\n",
            "-10.175040243058024\n",
            "Problability of a sentence 5.617210748667918e-18\n"
          ]
        }
      ],
      "source": [
        "#problability of 'นายก'\n",
        "print(getLnValue(unigram_model[u'นายก']))\n",
        "#for example, problability of 'นายกรัฐมนตรี' which is an unknown word is equal to\n",
        "print(getLnValue(unigram_model[u'นายกรัฐมนตรี']))\n",
        "#problability of 'นายก' 'ได้' 'ให้' 'สัมภาษณ์' 'กับ' 'สื่อ'\n",
        "prob = getLnValue(unigram_model[u'นายก'])+getLnValue(unigram_model[u'ได้'])+ getLnValue(unigram_model[u'ให้'])+getLnValue(unigram_model[u'สัมภาษณ์'])+getLnValue(unigram_model[u'กับ'])+getLnValue(unigram_model[u'สื่อ'])+getLnValue(unigram_model['</s>'])\n",
        "print ('Problability of a sentence', math.exp(prob))"
      ]
    },
    {
      "cell_type": "markdown",
      "metadata": {
        "id": "D8EfqnDsuXAw"
      },
      "source": [
        "# Perplexity\n",
        "\n",
        "In order to compare language model we need to calculate perplexity. In this task you should write a perplexity calculation code for the unigram model. The result perplexity should be around 556.39 and\n",
        "476.07 on train and test data."
      ]
    },
    {
      "attachments": {},
      "cell_type": "markdown",
      "metadata": {
        "id": "qDbyLBEggie0"
      },
      "source": [
        "## TODO #0\n",
        "**Fill your name and ID here** <br>\n",
        "**Name**: Nuttapol Onton\n",
        "<br>\n",
        "**ID**: 6330166021"
      ]
    },
    {
      "cell_type": "markdown",
      "metadata": {
        "id": "hZHQ-6tVuXAx"
      },
      "source": [
        "## TODO #1 **Calculate perplexity**"
      ]
    },
    {
      "cell_type": "code",
      "execution_count": 79,
      "metadata": {
        "id": "kh0DwzoouXAx"
      },
      "outputs": [],
      "source": [
        "def calculate_sentence_ln_prob(sentence, model):\n",
        "    sentence += '|</s>'\n",
        "    word = sentence.split('|')\n",
        "    ln_prob = .0\n",
        "    for w in word:\n",
        "        ln_prob += getLnValue(model[w])\n",
        "    return ln_prob, len(word)\n",
        "\n",
        "def perplexity(test,model):\n",
        "    ln_prob = .0\n",
        "    word_count = .0\n",
        "    for sentence in test:\n",
        "        ans = calculate_sentence_ln_prob(sentence, model)\n",
        "        ln_prob += ans[0]\n",
        "        word_count += ans[1]\n",
        "    return math.exp(-ln_prob / word_count)"
      ]
    },
    {
      "cell_type": "code",
      "execution_count": 80,
      "metadata": {
        "id": "KTkIoVWsuXAz"
      },
      "outputs": [
        {
          "name": "stdout",
          "output_type": "stream",
          "text": [
            "556.3925994212195\n",
            "476.0687892303532\n"
          ]
        }
      ],
      "source": [
        "print(perplexity(train,unigram_model))\n",
        "print(perplexity(test,unigram_model))"
      ]
    },
    {
      "cell_type": "markdown",
      "metadata": {
        "id": "ZdrQwHnLfA9P"
      },
      "source": [
        "## MyCourseVille Question #1 \n",
        "How much perplexity do you get with the Unigram model on the tokenized_wiki_sample dataset?\n",
        "\n",
        "Please also leave the number below."
      ]
    },
    {
      "cell_type": "code",
      "execution_count": 81,
      "metadata": {
        "id": "u4cpkJcFfAdG"
      },
      "outputs": [
        {
          "name": "stdout",
          "output_type": "stream",
          "text": [
            "1215.7165914041525\n"
          ]
        }
      ],
      "source": [
        "import pandas as pd\n",
        "\n",
        "df = pd.read_csv(\"tokenized_wiki_sample.csv\")\n",
        "wiki_sample_data = df[\"tokenized\"].values.tolist()\n",
        "print(perplexity(wiki_sample_data,unigram_model))"
      ]
    },
    {
      "cell_type": "markdown",
      "metadata": {
        "id": "gad1QuPAHUoK"
      },
      "source": [
        "## TODO #2 **Please explain why this model give us such a high perplexity.**"
      ]
    },
    {
      "attachments": {},
      "cell_type": "markdown",
      "metadata": {
        "id": "tMbhIO29HT6y"
      },
      "source": [
        "**Your answer**:  Because this is just unigram model, it can tell only the possibillity of each word. Moreover, the model doesn't handle the unknown word properly."
      ]
    },
    {
      "cell_type": "markdown",
      "metadata": {
        "id": "lK0gaMf0uXA2"
      },
      "source": [
        "# Bigram"
      ]
    },
    {
      "cell_type": "markdown",
      "metadata": {
        "id": "dmTkAY_QuXA3"
      },
      "source": [
        "Next, you will create a better language model than a unigram (which is not much to compare with). But first, it is very tedious to count every pair of words that occur in our corpus by ourselves. In this case, nltk provide us a simple library which will do it for us."
      ]
    },
    {
      "cell_type": "code",
      "execution_count": 82,
      "metadata": {
        "id": "Lv6r2LJ1uXA4"
      },
      "outputs": [
        {
          "name": "stdout",
          "output_type": "stream",
          "text": [
            "This is how nltk generate bigram.\n",
            "None I\n",
            "I always\n",
            "always search\n",
            "search google\n",
            "google for\n",
            "for an\n",
            "an answer\n",
            "answer .\n",
            ". None\n",
            "None is used as a start and end of sentence symbol.\n"
          ]
        }
      ],
      "source": [
        "#example of nltk usage for bigram\n",
        "sentence = 'I always search google for an answer .'\n",
        "\n",
        "print('This is how nltk generate bigram.')\n",
        "for w1,w2 in bigrams(sentence.split(), pad_right=True, pad_left=True):\n",
        "    print (w1,w2)\n",
        "print('None is used as a start and end of sentence symbol.')"
      ]
    },
    {
      "cell_type": "markdown",
      "metadata": {
        "id": "5R2T-6i9uXA6"
      },
      "source": [
        "Now, you should be able to implement a bigram model by yourself. Also, you must create a new perplexity calculation for bigram. The result perplexity should be around 58.79 and 146.27 on train and test data."
      ]
    },
    {
      "cell_type": "markdown",
      "metadata": {
        "id": "9aYkjzTzuXA7"
      },
      "source": [
        "## TODO #3 **Create a Bigram Model**"
      ]
    },
    {
      "cell_type": "code",
      "execution_count": 83,
      "metadata": {
        "id": "ZhnAa1XuuXA7"
      },
      "outputs": [],
      "source": [
        "def getBigramModel(data):\n",
        "    ###FILL YOUR CODE HERE###\n",
        "    unigram_count = defaultdict(lambda: 0.0)\n",
        "    for sentence in data:\n",
        "        sentence += '|</s>'\n",
        "        sentence = '<s>|' + sentence\n",
        "        for word in sentence.split('|'):\n",
        "            unigram_count[word] += 1\n",
        "    bigram_count = defaultdict(lambda: defaultdict(lambda: 0.0))\n",
        "    for sentence in data:\n",
        "        sentence += '|</s>'\n",
        "        sentence = '<s>|' + sentence\n",
        "        words = sentence.split('|')\n",
        "        for i in range(1,len(words)) :\n",
        "            bigram_count[words[i]][words[i-1]] += 1\n",
        "    model = defaultdict(lambda: defaultdict(lambda: 0.0))\n",
        "    for x in bigram_count:\n",
        "        for y in bigram_count[x]:\n",
        "            model[x][y] = bigram_count[x][y] / unigram_count[y]\n",
        "    return model\n",
        "\n",
        "bigram_model = getBigramModel(train)\n"
      ]
    },
    {
      "cell_type": "markdown",
      "metadata": {
        "id": "i3_Cgu6guXA-"
      },
      "source": [
        "## TODO #4 **Calculate Perplexity for Bigram Model**\n",
        "\n"
      ]
    },
    {
      "cell_type": "code",
      "execution_count": 84,
      "metadata": {
        "id": "4i3NoQGfuXA-"
      },
      "outputs": [],
      "source": [
        "def calculate_sentence_ln_prob(sentence, model):\n",
        "    sentence += '|</s>'\n",
        "    sentence = '<s>|' + sentence\n",
        "    words = sentence.split('|')\n",
        "    ln_prob = .0\n",
        "    for i in range(1,len(words)):\n",
        "        ln_prob += getLnValue(model[words[i]][words[i-1]])\n",
        "    return ln_prob, len(words) - 1\n",
        "\n",
        "def perplexity(test,model):\n",
        "    ln_prob = .0\n",
        "    word_count = .0\n",
        "    for sentence in test:\n",
        "        ans = calculate_sentence_ln_prob(sentence, model)\n",
        "        ln_prob += ans[0]\n",
        "        word_count += ans[1]\n",
        "    return math.exp(-ln_prob / word_count)\n",
        "\n"
      ]
    },
    {
      "cell_type": "code",
      "execution_count": 85,
      "metadata": {
        "id": "OC1L5YWfuXBA"
      },
      "outputs": [
        {
          "name": "stdout",
          "output_type": "stream",
          "text": [
            "58.78942889767147\n",
            "146.26539331038614\n"
          ]
        }
      ],
      "source": [
        "print(perplexity(train,bigram_model))\n",
        "print(perplexity(test, bigram_model))\n",
        "\n",
        "# 58.78942889767147\n",
        "# 146.26539331038614"
      ]
    },
    {
      "cell_type": "markdown",
      "metadata": {
        "id": "ODObYM_Rge0k"
      },
      "source": [
        "## MyCourseVille Question #2 \n",
        "How much perplexity do you get with the Bigram model on the tokenized_wiki_sample dataset?\n",
        "\n",
        "Please also leave the number below."
      ]
    },
    {
      "cell_type": "code",
      "execution_count": 86,
      "metadata": {},
      "outputs": [
        {
          "name": "stdout",
          "output_type": "stream",
          "text": [
            "744.3142671561902\n"
          ]
        }
      ],
      "source": [
        "print(perplexity(wiki_sample_data,bigram_model))"
      ]
    },
    {
      "cell_type": "markdown",
      "metadata": {
        "id": "9BAF9DQbuXBC"
      },
      "source": [
        "# Smoothing"
      ]
    },
    {
      "cell_type": "markdown",
      "metadata": {
        "id": "jlm75BWLuXBC"
      },
      "source": [
        "Usually any ngram models have a sparsity problem, which means it does not have every possible ngram of words in the dataset. Smoothing techniques can alleviate this problem. In this section, you will implement two basic smoothing methods laplace smoothing and interpolation for bigram."
      ]
    },
    {
      "cell_type": "markdown",
      "metadata": {
        "id": "jwa7YQiouXBD"
      },
      "source": [
        "## TODO #5 **Bigram with Laplace smoothing (Add-One Smoothing)**"
      ]
    },
    {
      "cell_type": "code",
      "execution_count": 87,
      "metadata": {
        "id": "hnDlweIQuXBD"
      },
      "outputs": [
        {
          "name": "stdout",
          "output_type": "stream",
          "text": [
            "974.8134581679766\n",
            "1098.1760884387186\n"
          ]
        }
      ],
      "source": [
        "#Laplace Smoothing\n",
        "def getBigramWithLaplaceSmoothing(data):\n",
        "    #Fill code here\n",
        "    unigram_count = defaultdict(lambda: 0.0)\n",
        "    for sentence in data:\n",
        "        sentence += '|</s>'\n",
        "        sentence = '<s>|' + sentence\n",
        "        for word in sentence.split('|'):\n",
        "            unigram_count[word] += 1\n",
        "    bigram_count = defaultdict(lambda: defaultdict(lambda: 1.0))\n",
        "    for sentence in data:\n",
        "        sentence += '|</s>'\n",
        "        sentence = '<s>|' + sentence\n",
        "        words = sentence.split('|')\n",
        "        for i in range(1,len(words)) :\n",
        "            bigram_count[words[i]][words[i-1]] += 1\n",
        "    model = defaultdict(lambda: defaultdict(lambda: math.pow(len(unigram_count), -1)))\n",
        "    for x in bigram_count:\n",
        "        for y in bigram_count[x]:\n",
        "            model[x][y] = bigram_count[x][y] / (unigram_count[y] + len(unigram_count)-1) \n",
        "    return model\n",
        "\n",
        "\n",
        "bigram_with_laplace_model = getBigramWithLaplaceSmoothing(train)\n",
        "print(perplexity(train,bigram_with_laplace_model))\n",
        "print(perplexity(test, bigram_with_laplace_model))\n",
        "\n",
        "# 974.8134581679766\n",
        "# 1098.1622194979489"
      ]
    },
    {
      "cell_type": "markdown",
      "metadata": {
        "id": "uPZBPKnPgutc"
      },
      "source": [
        "## MyCourseVille Question #3 \n",
        "How much perplexity do you get with the Bigram model with Laplace Smoothing on the tokenized_wiki_sample dataset?\n",
        "\n",
        "Please also leave the number below."
      ]
    },
    {
      "cell_type": "code",
      "execution_count": 88,
      "metadata": {
        "id": "b6Jsm5EZguEE"
      },
      "outputs": [
        {
          "name": "stdout",
          "output_type": "stream",
          "text": [
            "3372.4691484637815\n"
          ]
        }
      ],
      "source": [
        "print(perplexity(wiki_sample_data,bigram_with_laplace_model))"
      ]
    },
    {
      "cell_type": "markdown",
      "metadata": {
        "id": "5JDswBSIuXBG"
      },
      "source": [
        "## TODO #6 **Bigram with Interpolation**\n",
        "lambda value is 0.7 for bigram, 0.25 for unigram, and 0.05 for unknown word"
      ]
    },
    {
      "cell_type": "code",
      "execution_count": 89,
      "metadata": {
        "id": "pskrwklHuXBI"
      },
      "outputs": [
        {
          "name": "stdout",
          "output_type": "stream",
          "text": [
            "-------------exactly version-------------\n",
            "73.54392427626321\n",
            "150.8055942710986\n",
            "-------------for MCV version-------------\n",
            "73.54392427626321\n",
            "173.04288340104554\n"
          ]
        }
      ],
      "source": [
        "#interpolation\n",
        "\n",
        "#---------------This version same logic as lecture---------------\n",
        "def getBigramWithInterpolation(data):\n",
        "    #Fill code here\n",
        "    unigram = getUnigramModel(data)\n",
        "    bigram = getBigramModel(data)\n",
        "    c = math.pow(len(unigram), -1)*0.05\n",
        "    model = defaultdict(lambda: defaultdict(lambda: c)) # Remark1: set default to c \n",
        "    def check_unigram(word):\n",
        "        p = 0.25*unigram[word] + c\n",
        "        return lambda: p\n",
        "    for x in unigram.keys():\n",
        "        tmp = 0.25*unigram[x] + c\n",
        "        model[x] = defaultdict(check_unigram(x))# Remark2: change defalt value to 0.25*unigram[x] + c if current word in unigram\n",
        "        for y in bigram[x]:\n",
        "            model[x][y] = 0.7*bigram[x][y] + 0.25*unigram[x] + c # Remark2: Adding value with 0.7*bigram[x][y] if current word and previous word are in bigram\n",
        "    return model\n",
        "#-----------------------------------------------------------------\n",
        "\n",
        "#--------This version work for MyCourseVille and testcase--------\n",
        "def getBigramWithInterpolation_forMCV(data):\n",
        "    #Fill code here\n",
        "    unigram = getUnigramModel(data)\n",
        "    bigram = getBigramModel(data)\n",
        "    c = math.pow(len(unigram),-1)\n",
        "    model = defaultdict(lambda: defaultdict(lambda: 0.0)) \n",
        "    for x in unigram:\n",
        "        model[x] = defaultdict(lambda: 0.0) \n",
        "        for y in bigram[x]:\n",
        "            model[x][y] += 0.7*bigram[x][y] + 0.05*c + 0.25*unigram[x]\n",
        "\n",
        "    return model\n",
        "#-----------------------------------------------------------------\n",
        "\n",
        "print(\"-------------exactly version-------------\")\n",
        "bigram_with_interpolation_model = getBigramWithInterpolation(train)\n",
        "print(perplexity(train,bigram_with_interpolation_model))        \n",
        "print(perplexity(test,bigram_with_interpolation_model))\n",
        "print(\"-------------for MCV version-------------\")\n",
        "bigram_with_interpolation_model_forMCV = getBigramWithInterpolation_forMCV(train)\n",
        "print(perplexity(train,bigram_with_interpolation_model_forMCV))        \n",
        "print(perplexity(test,bigram_with_interpolation_model_forMCV))\n",
        "\n",
        "# 73.38409869825665\n",
        "# 172.67485908813356"
      ]
    },
    {
      "attachments": {},
      "cell_type": "markdown",
      "metadata": {},
      "source": [
        "**Description for Bigram with interpolation model**\n",
        "\n",
        "In bigram with interpolation model, I use dict of dict to create model. First index (model[x]) is for current word, and the second index[model[x][y]] for previous word.\n",
        "\n",
        "At remark1, I set default value for unknown word to 0.25*(1/vocabulary count).\n",
        "\n",
        "At remark2, If current word is one of the all vocabulary, the default value will change to 0.05*(1/vocabulary count) + 0.25*unigram[x].\n",
        "\n",
        "At remark3, After I change default value in remark2, the value must add by 0.7*bigram[x][y] for the current word and previous word that in bigram."
      ]
    },
    {
      "cell_type": "markdown",
      "metadata": {
        "id": "Z1hBJsSMg0U_"
      },
      "source": [
        "## MyCourseVille Question #4 \n",
        "How much perplexity do you get with the Bigram model with Interpolation on the tokenized_wiki_sample dataset?\n",
        "\n",
        "Please also leave the number below."
      ]
    },
    {
      "cell_type": "code",
      "execution_count": 64,
      "metadata": {
        "id": "bbFS4GU5jjVy"
      },
      "outputs": [
        {
          "name": "stdout",
          "output_type": "stream",
          "text": [
            "-------------exactly version-------------\n",
            "838.6295860561921\n",
            "-------------for MCV version-------------\n",
            "821.2170455684426\n"
          ]
        }
      ],
      "source": [
        "print(\"-------------exactly version-------------\") \n",
        "print(perplexity(wiki_sample_data,bigram_with_interpolation_model))\n",
        "print(\"-------------for MCV version-------------\")\n",
        "print(perplexity(wiki_sample_data,bigram_with_interpolation_model_forMCV))"
      ]
    },
    {
      "cell_type": "markdown",
      "metadata": {
        "id": "pUorP-EWuXBM"
      },
      "source": [
        "# Language modeling on multiple domains\n",
        "\n",
        "Sometimes, we do not have enough data to create a language model for a new domain. In that case, we can improvised by combining several models to improve result on the new domain.\n",
        "\n",
        "In this exercise you will try to merge two language models from news and article domains to create a language model for the encyclopedia domain."
      ]
    },
    {
      "cell_type": "code",
      "execution_count": 65,
      "metadata": {
        "id": "Jel9Hx69uXBN"
      },
      "outputs": [],
      "source": [
        "# create article data\n",
        "encyclo_data=[]\n",
        "fp= io.open('BEST2010/encyclopedia.txt','r',encoding='utf-8')\n",
        "for i,line in enumerate(fp):\n",
        "    encyclo_data.append(line.strip()[:-1])\n",
        "fp.close()\n",
        "\n",
        "article_data=[]\n",
        "fp= io.open('BEST2010/article.txt','r',encoding='utf-8')\n",
        "for i,line in enumerate(fp):\n",
        "    article_data.append(line.strip()[:-1])\n",
        "fp.close()"
      ]
    },
    {
      "cell_type": "markdown",
      "metadata": {
        "id": "9skdgo8muXBO"
      },
      "source": [
        "First, you should try to calculate perplexity of your bigram with interpolation using \"news data\" (train) on \"encyclopedia data\" (test). The result perplexity should be around 727.35.\n",
        "\n",
        "For your information, a bigram model with interpolation using \"article data\" (train) to test on \"encyclopedia data\" (test) has a perplexity of 505.80."
      ]
    },
    {
      "cell_type": "code",
      "execution_count": 66,
      "metadata": {
        "id": "x0l91qLEuXBP"
      },
      "outputs": [
        {
          "name": "stdout",
          "output_type": "stream",
          "text": [
            "-------------exactly version-------------\n",
            "587.985335505008\n",
            "440.2344588156499\n",
            "-------------for MCV version-------------\n",
            "728.8985182322733\n",
            "519.5635034442969\n"
          ]
        }
      ],
      "source": [
        "# print perplexity of bigram with interpolation on article data        \n",
        "# 928.8461907933413\n",
        "print(\"-------------exactly version-------------\") \n",
        "print(perplexity(encyclo_data,bigram_with_interpolation_model))\n",
        "bigram_train_with_article = getBigramWithInterpolation(article_data)\n",
        "print(perplexity(encyclo_data,bigram_train_with_article))\n",
        "print(\"-------------for MCV version-------------\")\n",
        "print(perplexity(encyclo_data,bigram_with_interpolation_model_forMCV))\n",
        "bigram_train_with_article_forMCV = getBigramWithInterpolation_forMCV(article_data)\n",
        "print(perplexity(encyclo_data,bigram_train_with_article_forMCV))"
      ]
    },
    {
      "cell_type": "markdown",
      "metadata": {
        "id": "hwV9j9U-uXBR"
      },
      "source": [
        "## TODO #7 \n",
        "Write a model that produce 450.0 or less perplexity on encyclopedia data without using data from the encyclopedia as training data. (Hint : Try to combine a model with news data and a model with article data together.)"
      ]
    },
    {
      "cell_type": "code",
      "execution_count": 67,
      "metadata": {
        "id": "wBjmLhUcuXBS"
      },
      "outputs": [
        {
          "name": "stdout",
          "output_type": "stream",
          "text": [
            "-------------exactly version-------------\n",
            "Perplexity of combine Bigram model with interpolation smoothing on encyclopedia test data 403.9378819091659\n",
            "-------------for MCV version-------------\n",
            "Perplexity of combine Bigram model with interpolation smoothing on encyclopedia test data 428.3308600402633\n"
          ]
        }
      ],
      "source": [
        "# Fill code here\n",
        "# 428.8525 (on combined data)\n",
        "combined_data = best2010\n",
        "for line in article_data:\n",
        "    combined_data.append(line)\n",
        "combined_model = getBigramWithInterpolation(combined_data)\n",
        "print(\"-------------exactly version-------------\") \n",
        "print('Perplexity of combine Bigram model with interpolation smoothing on encyclopedia test data',perplexity(encyclo_data, combined_model))\n",
        "print(\"-------------for MCV version-------------\")\n",
        "combined_model_forMCV = getBigramWithInterpolation_forMCV(combined_data)\n",
        "print('Perplexity of combine Bigram model with interpolation smoothing on encyclopedia test data',perplexity(encyclo_data, combined_model_forMCV))"
      ]
    },
    {
      "cell_type": "markdown",
      "metadata": {
        "id": "XNPEhD7WuXBV"
      },
      "source": [
        "## TODO #8 \n",
        "## Kneser-ney on \"News\"\n",
        "\n",
        "<!-- Reimplement equation 4.33 in SLP textbook (https://lagunita.stanford.edu/c4x/Engineering/CS-224N/asset/slp4.pdf) -->\n",
        "\n",
        "Implement Bigram Knerser-ney LM. The result perplexity should be around 75.51 and 183.35 on train and test data. \n"
      ]
    },
    {
      "cell_type": "code",
      "execution_count": 68,
      "metadata": {
        "id": "2CzvIQ9ho7MR"
      },
      "outputs": [
        {
          "name": "stdout",
          "output_type": "stream",
          "text": [
            "71.14054002208687\n",
            "155.09274968738495\n"
          ]
        }
      ],
      "source": [
        "# Fill codehere\n",
        "\n",
        "#------------------------------------------\n",
        "# create unigram & bigram counting tables\n",
        "#------------------------------------------\n",
        "# unigram_count = defaultdict(lambda: 0.0)\n",
        "# bigram_count = defaultdict(lambda: 0.0)\n",
        "# bigram_cn_count = defaultdict(lambda: 0.0)\n",
        "# unigram_cn_count = defaultdict(lambda: 0.0)\n",
        "# model = defaultdict(lambda: 0.0)\n",
        "\n",
        "#------------------------------------------\n",
        "# Kneserney\n",
        "#------------------------------------------\n",
        "# 1) counting all elements\n",
        "\n",
        "# 2) compute p_cn (continuation prob)\n",
        "\n",
        "# 3) compute p_kn (kneser-ney prob)\n",
        "\n",
        "def getKneserNeyModel(data):\n",
        "    unigram_count = defaultdict(lambda: 0.0)\n",
        "    for sentence in data:\n",
        "        sentence += '|</s>'\n",
        "        sentence = '<s>|' + sentence\n",
        "        for word in sentence.split('|'):\n",
        "            unigram_count[word] += 1\n",
        "    bigram_count = defaultdict(lambda: defaultdict(lambda: 0.0))\n",
        "    for sentence in data:\n",
        "        sentence += '|</s>'\n",
        "        sentence = '<s>|' + sentence\n",
        "        words = sentence.split('|')\n",
        "        for i in range(1,len(words)) :\n",
        "            bigram_count[words[i]][words[i-1]] += 1\n",
        "    cn_count = 0.0  \n",
        "    for x in bigram_count:\n",
        "        cn_count += len(bigram_count[x])\n",
        "    fw_count = defaultdict(lambda: 0.0)\n",
        "    for x in bigram_count:\n",
        "        fw_count[x] = len(bigram_count[x])\n",
        "    nw_count = defaultdict(lambda: 0.0)\n",
        "    nw_value = defaultdict(lambda: 0.0)\n",
        "    nw_prob = defaultdict(lambda: 0.0)\n",
        "    for x in bigram_count:\n",
        "        for y in bigram_count[x]:\n",
        "            nw_count[y] += 1\n",
        "            nw_value[y] += bigram_count[x][y]\n",
        "    for x in nw_count:\n",
        "        nw_prob[x] = nw_count[x]/nw_value[x]\n",
        "    model = defaultdict(lambda: defaultdict(lambda: 0.0))\n",
        "    for x in bigram_count:\n",
        "        for y in bigram_count[x]:\n",
        "            model[x][y] = (max(0, bigram_count[x][y]-0.75) / unigram_count[y]) + (0.75*nw_prob[y]*fw_count[x]/cn_count)\n",
        "\n",
        "    return model\n",
        "\n",
        "\n",
        "\n",
        "KN_model = getKneserNeyModel(train)\n",
        "print (perplexity(train,KN_model))        \n",
        "print (perplexity(test,KN_model))\n",
        "\n",
        "# 75.5096977631044\n",
        "# 183.34798416569242"
      ]
    },
    {
      "attachments": {},
      "cell_type": "markdown",
      "metadata": {},
      "source": [
        "**Description for Bigram with Kneser-Ney model**\n",
        "\n",
        "In this model I implement like interpolation model, but add more calculation model."
      ]
    },
    {
      "cell_type": "markdown",
      "metadata": {
        "id": "FZhan6vfnqvA"
      },
      "source": [
        "## MyCourseVille Question #5 \n",
        "How much perplexity do you get with the Kneser-Ney model on the tokenized_wiki_sample dataset?\n",
        "\n",
        "Please also leave the number below."
      ]
    },
    {
      "cell_type": "code",
      "execution_count": 279,
      "metadata": {
        "id": "E-RL683YkY88"
      },
      "outputs": [
        {
          "name": "stdout",
          "output_type": "stream",
          "text": [
            "793.9339539916751\n"
          ]
        }
      ],
      "source": [
        "print (perplexity(wiki_sample_data,KN_model))"
      ]
    }
  ],
  "metadata": {
    "colab": {
      "provenance": [],
      "toc_visible": true
    },
    "kernelspec": {
      "display_name": "Python 3",
      "language": "python",
      "name": "python3"
    },
    "language_info": {
      "codemirror_mode": {
        "name": "ipython",
        "version": 3
      },
      "file_extension": ".py",
      "mimetype": "text/x-python",
      "name": "python",
      "nbconvert_exporter": "python",
      "pygments_lexer": "ipython3",
      "version": "3.10.9"
    },
    "vscode": {
      "interpreter": {
        "hash": "b0fa6594d8f4cbf19f97940f81e996739fb7646882a419484c72d19e05852a7e"
      }
    }
  },
  "nbformat": 4,
  "nbformat_minor": 0
}
